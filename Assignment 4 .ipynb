{
 "cells": [
  {
   "cell_type": "code",
   "execution_count": 1,
   "metadata": {},
   "outputs": [
    {
     "name": "stdout",
     "output_type": "stream",
     "text": [
      "Hello world\n",
      "this is a file\n"
     ]
    }
   ],
   "source": [
    "f = open(\"abc.txt\", \"r\")\n",
    "print(f.read())"
   ]
  },
  {
   "cell_type": "code",
   "execution_count": 4,
   "metadata": {},
   "outputs": [],
   "source": [
    "file1 = open(\"abc.txt\", \"a\")  # append mode \n",
    "file1.write(\"Saanya \\n\") \n",
    "file1.close() \n",
    "   "
   ]
  },
  {
   "cell_type": "code",
   "execution_count": 5,
   "metadata": {},
   "outputs": [
    {
     "name": "stdout",
     "output_type": "stream",
     "text": [
      "Hello world\n",
      "this is a fileSaanya \n",
      " Saanya \n",
      "\n"
     ]
    }
   ],
   "source": [
    "f = open(\"abc.txt\", \"r\")\n",
    "print(f.read())"
   ]
  },
  {
   "cell_type": "code",
   "execution_count": 6,
   "metadata": {},
   "outputs": [],
   "source": [
    "with open('abc.txt','r') as firstfile, open('xyz.txt','a') as secondfile: \n",
    "      \n",
    "    for line in firstfile: \n",
    "             secondfile.write(line)"
   ]
  },
  {
   "cell_type": "code",
   "execution_count": 7,
   "metadata": {},
   "outputs": [
    {
     "name": "stdout",
     "output_type": "stream",
     "text": [
      "Hello world\n",
      "this is a fileSaanya \n",
      " Saanya \n",
      "\n"
     ]
    }
   ],
   "source": [
    "f = open(\"xyz.txt\", \"r\")\n",
    "print(f.read())"
   ]
  },
  {
   "cell_type": "code",
   "execution_count": 8,
   "metadata": {},
   "outputs": [
    {
     "name": "stdout",
     "output_type": "stream",
     "text": [
      "Directory 'new' created\n"
     ]
    }
   ],
   "source": [
    "import os \n",
    "  \n",
    "directory = \"new\"\n",
    "  \n",
    "parent_dir = \"C:/Users/hp/Untitled Folder/\"\n",
    "  \n",
    "path = os.path.join(parent_dir, directory) \n",
    "  \n",
    "\n",
    "os.mkdir(path) \n",
    "print(\"Directory '% s' created\" % directory) \n",
    "  "
   ]
  },
  {
   "cell_type": "code",
   "execution_count": 9,
   "metadata": {},
   "outputs": [],
   "source": [
    "os.rename('new','new1') "
   ]
  },
  {
   "cell_type": "code",
   "execution_count": null,
   "metadata": {},
   "outputs": [],
   "source": []
  }
 ],
 "metadata": {
  "kernelspec": {
   "display_name": "Python 3",
   "language": "python",
   "name": "python3"
  },
  "language_info": {
   "codemirror_mode": {
    "name": "ipython",
    "version": 3
   },
   "file_extension": ".py",
   "mimetype": "text/x-python",
   "name": "python",
   "nbconvert_exporter": "python",
   "pygments_lexer": "ipython3",
   "version": "3.7.6"
  }
 },
 "nbformat": 4,
 "nbformat_minor": 4
}
