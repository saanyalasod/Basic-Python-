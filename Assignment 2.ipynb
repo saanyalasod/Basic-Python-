{
 "cells": [
  {
   "cell_type": "code",
   "execution_count": 11,
   "metadata": {},
   "outputs": [
    {
     "name": "stdout",
     "output_type": "stream",
     "text": [
      "List [1, 2, 3, 4, 5, 6]\n",
      "list after insertion [1, 2, 3, 4, 5, 6, 7]\n",
      "list after deletion [1, 3, 4, 5, 6, 7]\n",
      "Retriving second element 3\n"
     ]
    }
   ],
   "source": [
    "#creating a list\n",
    "l=[1,2,3,4,5,6]\n",
    "print(\"List\",l)\n",
    "#inserting in list\n",
    "l.append(7)\n",
    "print(\"list after insertion\", l)\n",
    "#deleting in list\n",
    "l.remove(2)\n",
    "print(\"list after deletion\", l)\n",
    "#retriving elements\n",
    "print(\"Retriving second element\",l[1])"
   ]
  },
  {
   "cell_type": "code",
   "execution_count": 12,
   "metadata": {},
   "outputs": [
    {
     "name": "stdout",
     "output_type": "stream",
     "text": [
      "dictionary {1: 'a', 2: 'b', 3: 'c', 4: 'd', 5: 'e'}\n",
      "dictionary after insertion {1: 'a', 2: 'b', 3: 'c', 4: 'd', 5: 'e', 6: 'f'}\n",
      "dictionary after deletion {1: 'a', 2: 'b', 3: 'c', 4: 'd', 5: 'e'}\n",
      "Retriving 2nd value b\n"
     ]
    }
   ],
   "source": [
    "#creating a dictionary\n",
    "d={1:\"a\",2:\"b\",3:\"c\",4:\"d\",5:\"e\"}\n",
    "print(\"dictionary\",d)\n",
    "#inserting in dictionary\n",
    "d[6]='f'\n",
    "print(\"dictionary after insertion\",d)\n",
    "#deleting in dictionary\n",
    "del d[6]\n",
    "print(\"dictionary after deletion\",d)\n",
    "#retriving element in dictionary\n",
    "print(\"Retriving 2nd value\",d[2])"
   ]
  },
  {
   "cell_type": "code",
   "execution_count": 18,
   "metadata": {},
   "outputs": [
    {
     "name": "stdout",
     "output_type": "stream",
     "text": [
      "tuple (1, 2, 3, 4, 5, 6)\n",
      "converted tuple type <class 'list'>\n",
      "tuple after deletion and conversion (2, 3, 4, 5, 6) <class 'tuple'>\n",
      "retriving second element 3\n"
     ]
    }
   ],
   "source": [
    "#creating a tuple\n",
    "t=(1,2,3,4,5,6)\n",
    "print(\"tuple\",t)\n",
    "#deletion in tuple- not possible as it is immutable, although can be done if first converted to list\n",
    "t1=list(t)\n",
    "print(\"converted tuple type\",type(t1))\n",
    "t1.remove(1)\n",
    "t=tuple(t1)\n",
    "print(\"tuple after deletion and conversion\",t,type(t))\n",
    "#retriving element in tuple\n",
    "print(\"retriving second element\",t[1])"
   ]
  },
  {
   "cell_type": "code",
   "execution_count": 19,
   "metadata": {},
   "outputs": [
    {
     "name": "stdout",
     "output_type": "stream",
     "text": [
      "String Saanya\n",
      "removing y Saana\n",
      "S\n",
      "a\n",
      "a\n",
      "n\n",
      "y\n",
      "a\n"
     ]
    }
   ],
   "source": [
    "#creating a string\n",
    "s=\"Saanya\"\n",
    "print(\"String\",s)\n",
    "#deleting a character\n",
    "print(\"removing y\",s.replace('y',''))\n",
    "#retriving characters\n",
    "for i in s:\n",
    "    print(i)"
   ]
  },
  {
   "cell_type": "code",
   "execution_count": 20,
   "metadata": {},
   "outputs": [
    {
     "name": "stdout",
     "output_type": "stream",
     "text": [
      "Numpy Array [1 2 3 5 6] <class 'numpy.ndarray'>\n"
     ]
    }
   ],
   "source": [
    "#creating a numpy array\n",
    "import numpy as np\n",
    "n=np.array([1,2,3,5,6,])\n",
    "print(\"Numpy Array\",n,type(n))"
   ]
  },
  {
   "cell_type": "code",
   "execution_count": null,
   "metadata": {},
   "outputs": [],
   "source": []
  }
 ],
 "metadata": {
  "kernelspec": {
   "display_name": "Python 3",
   "language": "python",
   "name": "python3"
  },
  "language_info": {
   "codemirror_mode": {
    "name": "ipython",
    "version": 3
   },
   "file_extension": ".py",
   "mimetype": "text/x-python",
   "name": "python",
   "nbconvert_exporter": "python",
   "pygments_lexer": "ipython3",
   "version": "3.7.6"
  }
 },
 "nbformat": 4,
 "nbformat_minor": 4
}
