{
 "cells": [
  {
   "cell_type": "code",
   "execution_count": 1,
   "metadata": {},
   "outputs": [
    {
     "name": "stdout",
     "output_type": "stream",
     "text": [
      "Saanya\n",
      "-------------------\n",
      "True\n",
      "-------------------\n",
      "50000\n",
      "-------------------\n"
     ]
    }
   ],
   "source": [
    "class emp:\n",
    "    name=\"Saanya\"\n",
    "    age=20\n",
    "    def show(self):\n",
    "        print(self.name)\n",
    "        print(self.salary)\n",
    "e1=emp()\n",
    "print(getattr(e1,'name'))\n",
    "print(\"-------------------\")\n",
    "print(hasattr(e1,'name'))\n",
    "print(\"-------------------\")\n",
    "setattr(e1,'salary',50000)\n",
    "print(getattr(e1,'salary'))\n",
    "print(\"-------------------\")\n",
    "delattr(emp,'age')"
   ]
  },
  {
   "cell_type": "code",
   "execution_count": null,
   "metadata": {},
   "outputs": [],
   "source": []
  }
 ],
 "metadata": {
  "kernelspec": {
   "display_name": "Python 3",
   "language": "python",
   "name": "python3"
  },
  "language_info": {
   "codemirror_mode": {
    "name": "ipython",
    "version": 3
   },
   "file_extension": ".py",
   "mimetype": "text/x-python",
   "name": "python",
   "nbconvert_exporter": "python",
   "pygments_lexer": "ipython3",
   "version": "3.7.6"
  }
 },
 "nbformat": 4,
 "nbformat_minor": 4
}
