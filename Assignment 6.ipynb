{
 "cells": [
  {
   "cell_type": "code",
   "execution_count": 15,
   "metadata": {},
   "outputs": [
    {
     "name": "stdout",
     "output_type": "stream",
     "text": [
      "Simple Interest is:  40.0\n"
     ]
    }
   ],
   "source": [
    "class simple_interest():\n",
    "    def display(Principal,rate,time):\n",
    "        si=(Principal*rate*time)/100\n",
    "        print(\"Simple Interest is: \",si)\n",
    "        return si\n",
    "s= simple_interest.display(1000,2,2)"
   ]
  },
  {
   "cell_type": "code",
   "execution_count": 19,
   "metadata": {},
   "outputs": [
    {
     "name": "stdout",
     "output_type": "stream",
     "text": [
      "Simple Interest is:  40.0\n"
     ]
    }
   ],
   "source": [
    "class simple_interest():\n",
    "    def __init__(self,Principal,rate,time):\n",
    "        self.Principal=Principal\n",
    "        self.rate=rate\n",
    "        self.time=time\n",
    "    def display(self):\n",
    "        print(\"Simple Interest is: \",self.si)\n",
    "    def solve(self):\n",
    "        self.si=(self.Principal*self.rate*self.time)/100\n",
    "s= simple_interest(1000,2,2)\n",
    "s.solve()\n",
    "s.display()"
   ]
  },
  {
   "cell_type": "code",
   "execution_count": null,
   "metadata": {},
   "outputs": [],
   "source": []
  }
 ],
 "metadata": {
  "kernelspec": {
   "display_name": "Python 3",
   "language": "python",
   "name": "python3"
  },
  "language_info": {
   "codemirror_mode": {
    "name": "ipython",
    "version": 3
   },
   "file_extension": ".py",
   "mimetype": "text/x-python",
   "name": "python",
   "nbconvert_exporter": "python",
   "pygments_lexer": "ipython3",
   "version": "3.7.6"
  }
 },
 "nbformat": 4,
 "nbformat_minor": 4
}
